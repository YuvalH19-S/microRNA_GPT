{
 "cells": [
  {
   "cell_type": "code",
   "execution_count": 41,
   "id": "579e9118-4243-4537-880f-df06bbea1718",
   "metadata": {
    "tags": []
   },
   "outputs": [],
   "source": [
    "import matplotlib.pyplot as plt\n",
    "import pandas as pd\n",
    "import math\n",
    "import seaborn as sns\n",
    "import matplotlib as mpl\n",
    "import numpy as np"
   ]
  },
  {
   "cell_type": "code",
   "execution_count": 24,
   "id": "1b4540d2-3c41-42f4-91b7-d73a554be8f3",
   "metadata": {
    "tags": []
   },
   "outputs": [],
   "source": [
    "def calculate_statistics(sequences):\n",
    "    num_sequences = len(sequences)\n",
    "    avg_length = int(sum(len(seq) for seq in sequences) / num_sequences) # if isinstance(seq, str)\n",
    "    min_length = min(len(seq) for seq in sequences)\n",
    "    max_length = max(len(seq) for seq in sequences)\n",
    "\n",
    "    return {\n",
    "        \"Number of sequences\": num_sequences,\n",
    "        \"Average sequence length\": avg_length,\n",
    "        \"Min sequence length\": min_length,\n",
    "        \"Max sequence length\": max_length\n",
    "    }"
   ]
  },
  {
   "cell_type": "markdown",
   "id": "4f945698-6aa6-438d-a2d2-618356fa5e63",
   "metadata": {
    "tags": []
   },
   "source": [
    "### create pre-mirna feature for mirgene data\n"
   ]
  },
  {
   "cell_type": "code",
   "execution_count": 9,
   "id": "672989b4-92e7-4315-9b29-036aa1191349",
   "metadata": {
    "tags": []
   },
   "outputs": [],
   "source": [
    "def remove_pre_lower_45(data, name):\n",
    "    pre_len = data.apply(lambda row: len(row['pre_mirna']), axis=1)\n",
    "    below_threshold = sum(pre < 45 for pre in pre_len)\n",
    "    rows_below_threshold = pre_len < 45\n",
    "    data = data[~rows_below_threshold]\n",
    "    return data, rows_below_threshold\n",
    "\n",
    "def remove_negatives(data, name):\n",
    "    df_numeric = data.applymap(pd.to_numeric, errors='coerce')\n",
    "    # Identify rows where any column contains negative values\n",
    "    negative_rows = (df_numeric < 0).any(axis=1)\n",
    "    # Remove rows with negative values\n",
    "    df_cleaned = data[~negative_rows]\n",
    "    return df_cleaned, negative_rows\n",
    "\n",
    "def remove_flanks(full_seq, flank1, flank2):\n",
    "    result = full_seq.replace(flank1, \"\").replace(flank2, \"\")\n",
    "    return result"
   ]
  },
  {
   "cell_type": "code",
   "execution_count": 11,
   "id": "838586cb-bcb7-48a3-8bb0-f180043c6307",
   "metadata": {
    "tags": []
   },
   "outputs": [
    {
     "name": "stderr",
     "output_type": "stream",
     "text": [
      "/tmp/ipykernel_1237/3868619751.py:9: FutureWarning: DataFrame.applymap has been deprecated. Use DataFrame.map instead.\n",
      "  df_numeric = data.applymap(pd.to_numeric, errors='coerce')\n",
      "/tmp/ipykernel_1237/3868619751.py:9: FutureWarning: DataFrame.applymap has been deprecated. Use DataFrame.map instead.\n",
      "  df_numeric = data.applymap(pd.to_numeric, errors='coerce')\n"
     ]
    }
   ],
   "source": [
    "mirgene_data = pd.read_csv('/sise/vaksler-group/IsanaRNA/Transformers/Rom/Data_output/miRGeneDB_output/miRGeneDB_features.csv')\n",
    "mirgene_data = mirgene_data.dropna(subset=['flank1', 'flank2'])\n",
    "mirgene_data['pre_mirna'] = mirgene_data.apply(lambda row: remove_flanks(row['full_seq'], row['flank1'], row['flank2']), axis=1)\n",
    "mirgene_data, rows_negative_m = remove_negatives(mirgene_data, \"mirgene\")\n",
    "mirgene_data, rows_below_threshold_m = remove_pre_lower_45(mirgene_data, \"mirgene \")\n",
    "\n",
    "human_data = pd.read_csv('/sise/vaksler-group/IsanaRNA/Transformers/GPT_env/human_data_with_premirna_mers.csv')\n",
    "human_data, rows_negative_h = remove_negatives(human_data, \"human \")\n",
    "human_data, rows_below_threshold_h= remove_pre_lower_45(human_data, \"human \")\n",
    "mirgene_data.to_csv(\"/sise/vaksler-group/IsanaRNA/Transformers/GPT_env/mirgene_data_premirna.csv\")\n",
    "human_data.to_csv('/sise/vaksler-group/IsanaRNA/Transformers/GPT_env/human_data_premirna.csv')"
   ]
  },
  {
   "cell_type": "code",
   "execution_count": 70,
   "id": "10ca462d-17c7-4cea-b875-7dd61e15f027",
   "metadata": {
    "tags": []
   },
   "outputs": [],
   "source": [
    "gff_data = pd.read_csv('/sise/vaksler-group/IsanaRNA/Transformers/GPT_env/bastian_data_after_filters_with_star_code_3.csv')\n",
    "mirgene_data = pd.read_csv('/sise/vaksler-group/IsanaRNA/Transformers/GPT_env/mirgene_data_premirna.csv')\n",
    "human_data = pd.read_csv('/sise/vaksler-group/IsanaRNA/Transformers/GPT_env/human_data_premirna.csv')"
   ]
  },
  {
   "cell_type": "code",
   "execution_count": 71,
   "id": "1ac6bd3c-a4e9-4d73-b5f8-919c1b818151",
   "metadata": {
    "tags": []
   },
   "outputs": [],
   "source": [
    "gff_data['pre_mirna'] = gff_data['Hairpin_seq_trimmed']"
   ]
  },
  {
   "cell_type": "code",
   "execution_count": 72,
   "id": "9993ac5d-f55d-4561-9a49-d9c1c4e5e08f",
   "metadata": {
    "tags": []
   },
   "outputs": [],
   "source": [
    "human_data['Star_start'] = human_data['Start_star']\n",
    "mirgene_data['Star_start'] = mirgene_data['Start_star']\n",
    "gff_data['Star_start'] = gff_data['Start_star']\n",
    "\n",
    "human_data['Mature_start'] = human_data.apply(lambda row: row['full_seq'].find(row['Mature']), axis=1)\n",
    "mirgene_data['Mature_start'] = mirgene_data.apply(lambda row: row['full_seq'].find(row['Mature']), axis=1)\n",
    "\n",
    "human_data['Mature_end'] = human_data.apply(lambda row: row['Mature_start']+len(row['Mature'])-1, axis=1)\n",
    "mirgene_data['Mature_end'] = mirgene_data.apply(lambda row: row['Mature_start']+len(row['Mature'])-1, axis=1)\n"
   ]
  },
  {
   "cell_type": "code",
   "execution_count": 73,
   "id": "b6684f93-5d74-4076-89e8-c102a84b4210",
   "metadata": {
    "tags": []
   },
   "outputs": [],
   "source": [
    "gff_data['data'] = 'MirMachine'\n",
    "mirgene_data['data'] = 'MirGeneDB'\n",
    "human_data['data'] = 'Human'\n",
    "human_data['prime'] = human_data.apply(lambda row: '5p' if row['Mature_start'] < row['Star_start'] else '3p', axis=1)\n",
    "mirgene_data['prime'] = mirgene_data.apply(lambda row: '5p' if row['Mature_start'] < row['Star_start'] else '3p', axis=1)\n",
    "gff_data['prime'] = gff_data.apply(lambda row: '5p' if row['Mature_start'] < row['Star_start'] else '3p', axis=1)"
   ]
  },
  {
   "cell_type": "code",
   "execution_count": 77,
   "id": "89690955-cf04-4f74-ab1e-3416c7108e53",
   "metadata": {
    "tags": []
   },
   "outputs": [],
   "source": [
    "all_data = pd.concat([human_data, mirgene_data, gff_data], join='inner', ignore_index=True)"
   ]
  },
  {
   "cell_type": "code",
   "execution_count": 78,
   "id": "b56ff50e-872a-4946-bb02-239f9ff2c4cc",
   "metadata": {
    "tags": []
   },
   "outputs": [],
   "source": [
    "all_data = all_data[all_data['pre_mirna'].apply(len) <= 65]"
   ]
  },
  {
   "cell_type": "code",
   "execution_count": 79,
   "id": "35f4a14c-1027-4e29-b1d0-c6ae572ceab2",
   "metadata": {
    "tags": []
   },
   "outputs": [
    {
     "name": "stdout",
     "output_type": "stream",
     "text": [
      "len all data:  131965\n",
      "len after remove dup - full seq: \n",
      "85132\n",
      "len after remove dup - pre_mirna: \n",
      "48991\n"
     ]
    }
   ],
   "source": [
    "before_len = len(all_data)\n",
    "print(\"len all data: \", before_len)\n",
    "all_data_full = all_data.drop_duplicates(subset='full_seq', keep='first')\n",
    "print(\"len after remove dup - full seq: \")\n",
    "print(len(all_data_full))\n",
    "all_data = all_data.drop_duplicates(subset='pre_mirna', keep='first')\n",
    "after_len = (len(all_data))\n",
    "print(\"len after remove dup - pre_mirna: \")\n",
    "print((len(all_data)))"
   ]
  },
  {
   "cell_type": "code",
   "execution_count": 58,
   "id": "b710cf77-8d09-45d8-9046-7813cc370139",
   "metadata": {
    "tags": []
   },
   "outputs": [],
   "source": [
    "all_pre = all_data['pre_mirna'].to_list()"
   ]
  },
  {
   "cell_type": "code",
   "execution_count": 59,
   "id": "024eeccb-e720-4352-ab3c-f5ca33766a49",
   "metadata": {
    "tags": []
   },
   "outputs": [
    {
     "data": {
      "text/plain": [
       "{'Number of sequences': 131965,\n",
       " 'Average sequence length': 60,\n",
       " 'Min sequence length': 45,\n",
       " 'Max sequence length': 65}"
      ]
     },
     "execution_count": 59,
     "metadata": {},
     "output_type": "execute_result"
    }
   ],
   "source": [
    "calculate_statistics(all_pre)"
   ]
  },
  {
   "cell_type": "code",
   "execution_count": 15,
   "id": "5380caf6-c844-4cf7-96c5-7522dbab449a",
   "metadata": {
    "tags": []
   },
   "outputs": [],
   "source": [
    "all_data.to_csv(\"../all_data_premirna_no_dup.csv\") "
   ]
  },
  {
   "cell_type": "code",
   "execution_count": 29,
   "id": "94bf0165-3a37-4263-acf0-963e6845bf49",
   "metadata": {},
   "outputs": [],
   "source": [
    "def csv_to_fasta(csv_file, fasta_file, feature):\n",
    "    df = pd.read_csv(csv_file)\n",
    "\n",
    "    with open(fasta_file, 'w') as fasta_out:\n",
    "        header_num = 0\n",
    "        for index, row in df.iterrows():\n",
    "            header_num += 1\n",
    "            compare_seq = row[feature]\n",
    "            full_seq = row['full_seq']\n",
    "            data_name = row['data']\n",
    "            utr = row['prime']\n",
    "            fasta_out.write(f'>{header_num}|{data_name}|{utr}|{full_seq}\\n{compare_seq}\\n')"
   ]
  },
  {
   "cell_type": "code",
   "execution_count": 30,
   "id": "209246bf-0a76-4eb7-8b30-65cee868abbe",
   "metadata": {},
   "outputs": [],
   "source": [
    "input_csv_file = '/sise/vaksler-group/IsanaRNA/Transformers/GPT_env/all_data_premirna_no_dup.csv' # no dup!!!\n",
    "output_fasta_file = '/sise/vaksler-group/IsanaRNA/Transformers/GPT_env/all_data_premirna_mature_no_dup.fasta' # dup!!!\n",
    "csv_to_fasta(input_csv_file, output_fasta_file, \"Mature\")"
   ]
  },
  {
   "cell_type": "code",
   "execution_count": 31,
   "id": "a8f5ac53-49b8-4fc8-beb8-01d1f487a70d",
   "metadata": {},
   "outputs": [],
   "source": [
    "clusters_mature_files = [\n",
    "    [\"/sise/home/ronfay/est_all_pre_no_dup_mature80.clstr\", \"all80\"]\n",
    "]"
   ]
  },
  {
   "cell_type": "code",
   "execution_count": 32,
   "id": "b5649086-34c6-4726-8b2f-566cc04e7821",
   "metadata": {},
   "outputs": [],
   "source": [
    "# return list of lists of the content of cluster\n",
    "def read_clstr_file(file_path):\n",
    "    clusters = []\n",
    "    with open(file_path, 'r') as file:\n",
    "        current_cluster = []\n",
    "        for line in file:\n",
    "            if line.startswith(\">Cluster\"):\n",
    "                if current_cluster:\n",
    "                    clusters.append(current_cluster)\n",
    "                # the first index of each cluster is the cluster id:\n",
    "                current_cluster = [line[9:]]\n",
    "            else:\n",
    "                current_cluster.append(line.strip())\n",
    "\n",
    "        if current_cluster:\n",
    "            clusters.append(current_cluster)\n",
    "\n",
    "    return clusters\n",
    "\n",
    "def read_fasta(file_path):\n",
    "    sequences = {}\n",
    "    with open(file_path, 'r') as file:\n",
    "        current_sequence = \"\"\n",
    "        current_header = None\n",
    "        for line in file:\n",
    "            line = line.strip()\n",
    "            if line.startswith('>'):\n",
    "                if current_header is not None:\n",
    "                    sequences[current_header] = current_sequence\n",
    "                current_header = line[1:]\n",
    "                current_sequence = \"\"\n",
    "            else:\n",
    "                current_sequence += line\n",
    "        if current_header is not None:\n",
    "            sequences[current_header] = current_sequence\n",
    "    return sequences\n",
    "\n",
    "# 4 graphs: x - cluster size, y - precentage of sequences in each cluster\n",
    "def plot_cluster_diagram(size_clusters_dict, name, data_len):\n",
    "    cluster_sizes = list(size_clusters_dict.keys())\n",
    "    number_in_each_cluster = [(sum(size_clusters_dict[size]) / data_len) * 100 for size in cluster_sizes]\n",
    "\n",
    "    plt.bar(cluster_sizes, number_in_each_cluster, align='center', width=1, edgecolor='blue', linewidth=1.6)\n",
    "    plt.xlabel('Cluster Size')\n",
    "    plt.ylabel('Percentage Of Data')\n",
    "    plt.title(f'{name} - 80% mature')\n",
    "    plt.ylim(0, 11)\n",
    "    plt.savefig(name)\n",
    "    plt.show()\n",
    "                          \n",
    "                                   \n",
    "# one graph of the clusters with the most human seqs:\n",
    "# y - size of human , size of cluster.\n",
    "# x - cluster id                      \n",
    "def plot_cluster_diagram_human(human_clusters, name):\n",
    "   # sort by the number of human seqs in cluster\n",
    "    human_clusters_sorted = sorted(human_clusters, key=lambda x: len(x[1:]), reverse=True)\n",
    "    human_clusters_sorted = human_clusters_sorted[:15]\n",
    "    cluster_ids = [cluster[0] for cluster in human_clusters_sorted]\n",
    "    cluster_sizes = [cluster[1] for cluster in human_clusters_sorted]\n",
    "    sequence_sizes = [len(cluster) - 2 for cluster in human_clusters_sorted]\n",
    "    \n",
    "    bar_width = 0.35\n",
    "    fig, ax1 = plt.subplots()\n",
    "    bar1 = ax1.bar(np.arange(len(cluster_ids)), cluster_sizes, bar_width, label='Cluster Size', color='blue')\n",
    "    ax1.set_xlabel('Cluster ID', labelpad=40)\n",
    "    ax1.set_ylabel('Cluster Size', color='blue')\n",
    "    ax1.set_title(name)\n",
    "    ax1.set_xticks(np.arange(len(cluster_ids)))\n",
    "    ax1.set_xticklabels(cluster_ids)\n",
    "    ax1.legend(loc='upper left')\n",
    "    ax2 = ax1.twinx()\n",
    "    bar2 = ax2.bar(np.arange(len(cluster_ids)) + bar_width, sequence_sizes, bar_width, label='Human Seq Count', color='orange')\n",
    "    ax2.set_ylabel('Number of human seq', color='orange')\n",
    "    ax2.legend(loc='upper right')\n",
    "    plt.savefig(name)\n",
    "    plt.show()                 "
   ]
  },
  {
   "cell_type": "code",
   "execution_count": 36,
   "id": "f3ca2bf8-70c8-401b-b28a-110386c45079",
   "metadata": {},
   "outputs": [],
   "source": [
    "# returns list of lists of the seqs of specific data from each cluster\n",
    "def specific_data_diagram(data_name, clusters_mature_data):\n",
    "    clusters_mature_specific_data = []\n",
    "    cluster_sizes = {}\n",
    "    for cluster in clusters_mature_data:\n",
    "        curr_cluster = []\n",
    "        cluster_size = len(cluster)\n",
    "        for seq in cluster:\n",
    "            if data_name in seq:\n",
    "                curr_cluster.append(seq)\n",
    "        if curr_cluster:\n",
    "            if cluster_size in cluster_sizes:\n",
    "                cluster_sizes[cluster_size].append(len(curr_cluster))\n",
    "            else:\n",
    "                cluster_sizes[cluster_size] = [len(curr_cluster)]\n",
    "            clusters_mature_specific_data.append(curr_cluster)\n",
    "    return clusters_mature_specific_data, cluster_sizes"
   ]
  },
  {
   "cell_type": "code",
   "execution_count": 37,
   "id": "85fa9814-ba04-4742-bd10-34b4df210a67",
   "metadata": {},
   "outputs": [],
   "source": [
    "def create_dict_all(clusters_mature_data):\n",
    "    cluster_sizes = {}\n",
    "    for cluster in clusters_mature_data:\n",
    "        cluster_size = len(cluster)\n",
    "        if cluster_size in cluster_sizes:\n",
    "            cluster_sizes[cluster_size].append(cluster_size)\n",
    "        else:\n",
    "            cluster_sizes[cluster_size] = [cluster_size]\n",
    "    return cluster_sizes"
   ]
  },
  {
   "cell_type": "code",
   "execution_count": 38,
   "id": "be42492f-2630-4bec-b6d7-10868e770e1e",
   "metadata": {},
   "outputs": [],
   "source": [
    "# returns list of lists of human clusters where :\n",
    "# the first index in every list is cluster_id and the second is cluster len\n",
    "def count_human(clusters_mature_data):\n",
    "    clusters_mature_human = []\n",
    "    # cluster_sizes = {}\n",
    "    for cluster in clusters_mature_data:\n",
    "        curr_cluster = []\n",
    "        for seq in cluster[1:]:\n",
    "            if \"Human\" in seq:\n",
    "                if curr_cluster==[]:\n",
    "                    curr_cluster = [cluster[0], len(cluster)] # [id, cluster len, seqs...]\n",
    "                curr_cluster.append(seq)\n",
    "        if curr_cluster:\n",
    "            clusters_mature_human.append(curr_cluster)\n",
    "    return clusters_mature_human"
   ]
  },
  {
   "cell_type": "code",
   "execution_count": 42,
   "id": "f3e92f96-ac7e-4de5-b126-20953176b555",
   "metadata": {},
   "outputs": [
    {
     "data": {
      "image/png": "[encoded data removed]",
      "text/plain": [
       "<Figure size 640x480 with 1 Axes>"
      ]
     },
     "metadata": {},
     "output_type": "display_data"
    },
    {
     "data": {
      "image/png": "[encoded data removed]",
      "text/plain": [
       "<Figure size 640x480 with 1 Axes>"
      ]
     },
     "metadata": {},
     "output_type": "display_data"
    },
    {
     "data": {
      "image/png": "[encoded data removed]",
      "text/plain": [
       "<Figure size 640x480 with 1 Axes>"
      ]
     },
     "metadata": {},
     "output_type": "display_data"
    },
    {
     "data": {
      "image/png": "[encoded data removed]",
      "text/plain": [
       "<Figure size 640x480 with 1 Axes>"
      ]
     },
     "metadata": {},
     "output_type": "display_data"
    },
    {
     "data": {
      "image/png": "[encoded data removed]",
      "text/plain": [
       "<Figure size 640x480 with 2 Axes>"
      ]
     },
     "metadata": {},
     "output_type": "display_data"
    }
   ],
   "source": [
    "for index, (file_path, name) in enumerate(clusters_mature_files):  #clusters_files\n",
    "    # clusters_data = read_clstr_file(file_path)\n",
    "    \n",
    "    # list of lists of clusters:\n",
    "    clusters_mature_data = read_clstr_file(file_path)\n",
    "    clusters_mature_MirMachine, size_clusters_dict_mature_MirMachine = specific_data_diagram(\"MirMachine\", clusters_mature_data[1:])\n",
    "    clusters_mature_MirGeneDB, size_clusters_dict_mature_MirGeneDB = specific_data_diagram(\"MirGeneDB\", clusters_mature_data[1:])\n",
    "    clusters_mature_Human, size_clusters_dict_mature_Human = specific_data_diagram(\"Human\", clusters_mature_data[1:])\n",
    "    size_clusters_dict_mature_all = create_dict_all(clusters_mature_data[1:])\n",
    "\n",
    "    plot_cluster_diagram(size_clusters_dict_mature_MirMachine, \"MirMachine from All\", len(gff_data))\n",
    "    plot_cluster_diagram(size_clusters_dict_mature_MirGeneDB, \"MirGeneDB from All\", len(mirgene_data))\n",
    "    plot_cluster_diagram(size_clusters_dict_mature_Human, \"Human from All\", len(human_data))\n",
    "    plot_cluster_diagram(size_clusters_dict_mature_all, \"All\", len(all_data))\n",
    "    \n",
    "    clusters_mature_only_Human = count_human(clusters_mature_data)\n",
    "    plot_cluster_diagram_human(clusters_mature_only_Human, \"Human - the biggest in clusters\")\n"
   ]
  },
  {
   "cell_type": "markdown",
   "id": "0177f051-16a7-4db8-b3c4-0371c1ce8f8e",
   "metadata": {},
   "source": [
    "### test clusters"
   ]
  },
  {
   "cell_type": "code",
   "execution_count": 44,
   "id": "a3c9cb53-0c24-46a4-99a4-1a2cf4c4d507",
   "metadata": {},
   "outputs": [
    {
     "name": "stdout",
     "output_type": "stream",
     "text": [
      "Human seq in cluster length>1 : 138\n",
      "Human seq in cluster length>1 took to test: 51\n",
      "Number of human seq in cluster length=1:  265\n",
      "Human seq in cluster length=1 took to test : 49\n",
      "Human seq in test clusters: 100\n"
     ]
    }
   ],
   "source": [
    "# define and get the clusters for the test\n",
    "# this list includes only the humans in this clusters\n",
    "# the first index in every list is cluster_id and the second is cluster len\n",
    "human_test_clusters = [cluster for cluster in clusters_mature_only_Human if (len(cluster) >= 4 and cluster[1] < 200)]#or len(cluster)==3\n",
    "human_test_clusters_alone = [cluster for cluster in clusters_mature_only_Human if len(cluster)==3]\n",
    "print(\"Human seq in cluster length>1 :\", sum([len(cluster)-2 for cluster in human_test_clusters]))\n",
    "human_test_clusters = human_test_clusters[:16]\n",
    "print(\"Human seq in cluster length>1 took to test:\", sum([len(cluster)-2 for cluster in human_test_clusters]))\n",
    "print(\"Number of human seq in cluster length=1: \", len(human_test_clusters_alone))\n",
    "print(\"Human seq in cluster length=1 took to test :\", len(human_test_clusters_alone[:49]))\n",
    "\n",
    "# takes 51 Human seq that clusters have at least 2 of them and the cluster size<200, and 49 Human seq from clusters include only 1 seq\n",
    "human_test_clusters = human_test_clusters + human_test_clusters_alone[:49]\n",
    "print(\"Human seq in test clusters:\", sum([len(cluster)-2 for cluster in human_test_clusters]))\n"
   ]
  },
  {
   "cell_type": "code",
   "execution_count": 45,
   "id": "99a2f9be-015d-40cd-83df-aa70efc73efb",
   "metadata": {},
   "outputs": [],
   "source": [
    "# takes the clusters that were chosen to test\n",
    "test_cluster_ids = [cluster[0] for cluster in human_test_clusters]\n",
    "test_clusters = [cluster for cluster in clusters_mature_data if cluster[0] in test_cluster_ids]"
   ]
  },
  {
   "cell_type": "code",
   "execution_count": 46,
   "id": "0a725d3c-b0b1-4943-9253-6b19149501af",
   "metadata": {},
   "outputs": [],
   "source": [
    "# create lists of the seq ids (of the fasta file) of every data, that are in the test clusters\n",
    "# '14\\n', '0\\t25nt, >137|Human|AAAAAATTC... *'\n",
    "gff_seq_ids = []\n",
    "mirgene_seq_ids = []\n",
    "human_seq_ids = []\n",
    "for cluster in test_clusters:\n",
    "    for seq in cluster[1:]:\n",
    "        start_seq = seq.find('>') + 1\n",
    "        end_seq = seq.find('|')\n",
    "        seq_id = seq[start_seq:end_seq]\n",
    "        parts = seq.split(\"|\")\n",
    "        data_name = parts[1]\n",
    "        if data_name == \"Human\":\n",
    "            human_seq_ids.append(seq_id)\n",
    "        elif data_name == \"MirGeneDB\":\n",
    "            mirgene_seq_ids.append(seq_id)\n",
    "        elif data_name == \"MirMachine\":\n",
    "            gff_seq_ids.append(seq_id)"
   ]
  },
  {
   "cell_type": "code",
   "execution_count": 47,
   "id": "f201ea3b-d0e9-4ce9-abb2-ff67f2fb790d",
   "metadata": {},
   "outputs": [],
   "source": [
    "def extract_seq_from_fasta(file_path, target_ids):\n",
    "    sequences = {}\n",
    "    current_id = None\n",
    "    with open(file_path, 'r') as file:\n",
    "        for line in file:\n",
    "            if line.startswith('>'):\n",
    "                current_id = line[1:].split('|')[0]  # Extract the ID from the header line\n",
    "                if current_id in target_ids:\n",
    "                    sequences[current_id] = line.strip().split('|')[-1]\n",
    "            # elif current_id in target_ids:\n",
    "            #     sequences[current_id] += line.strip()  # Append the sequence to the corresponding ID\n",
    "    return sequences"
   ]
  },
  {
   "cell_type": "code",
   "execution_count": 48,
   "id": "1aef2de4-1355-4c68-aef8-b9a04a59dc5e",
   "metadata": {},
   "outputs": [],
   "source": [
    "fasta_path = output_fasta_file\n",
    "# dicts of seq_id, full sequence:\n",
    "test_human_dict_seqs = extract_seq_from_fasta(fasta_path, human_seq_ids)\n",
    "test_mirgene_dict_seqs = extract_seq_from_fasta(fasta_path, mirgene_seq_ids)\n",
    "test_gff_dict_seqs = extract_seq_from_fasta(fasta_path, gff_seq_ids)"
   ]
  },
  {
   "cell_type": "code",
   "execution_count": 49,
   "id": "ee9a9d3a-e37c-4dfb-83a5-0a76d08a470c",
   "metadata": {},
   "outputs": [],
   "source": [
    "#  Take the seq\n",
    "gff_values = [value.rstrip('\\n') for value in test_gff_dict_seqs.values()]\n",
    "mirgene_values = [value.rstrip('\\n') for value in test_mirgene_dict_seqs.values()]\n",
    "human_values = [value.rstrip('\\n') for value in test_human_dict_seqs.values()]"
   ]
  },
  {
   "cell_type": "code",
   "execution_count": 50,
   "id": "17a97b8d-819b-4bd0-a1b2-2bedddcb901c",
   "metadata": {},
   "outputs": [],
   "source": [
    "# Human seq for test\n",
    "file_path = 'human_test_hairpin_full_seqs.txt'\n",
    "with open(file_path, 'w') as file:\n",
    "    # Iterate over the list and write each Human seq to the file\n",
    "    for value in human_values:\n",
    "        file.write(value + '\\n')"
   ]
  },
  {
   "cell_type": "code",
   "execution_count": 51,
   "id": "e1f0ffa4-3886-47f8-ac75-1a72283ae67f",
   "metadata": {
    "tags": []
   },
   "outputs": [
    {
     "name": "stdout",
     "output_type": "stream",
     "text": [
      "lens before removing test seq:\n",
      "len gff:  116776\n",
      "len mirgene:  14700\n",
      "len human:  489\n",
      "lens after removing test seq:\n",
      "len(train_gff):  109418\n",
      "len(train_mirgene):  13444\n",
      "len(train_human):  389\n",
      "len human data in test:\n",
      "100\n"
     ]
    }
   ],
   "source": [
    "# test_human_dict_seqs\n",
    "new_gff = all_data[all_data['data']==\"MirMachine\"]\n",
    "new_mirgene = all_data[all_data['data']==\"MirGeneDB\"]\n",
    "new_human = all_data[all_data['data']==\"Human\"]\n",
    "print(\"lens before removing test seq:\")\n",
    "print(\"len gff: \", len(new_gff))\n",
    "print(\"len mirgene: \", len(new_mirgene))\n",
    "print(\"len human: \", len(new_human))\n",
    "\n",
    "train_gff = new_gff[~new_gff['full_seq'].isin(gff_values)]\n",
    "train_mirgene = new_mirgene[~new_mirgene['full_seq'].isin(mirgene_values)]\n",
    "train_human = new_human[~new_human['full_seq'].isin(human_values)]\n",
    "print(\"lens after removing test seq:\")\n",
    "print(\"len(train_gff): \", len(train_gff))\n",
    "print(\"len(train_mirgene): \", len(train_mirgene))\n",
    "print(\"len(train_human): \", len(train_human))\n",
    "\n",
    "test_human = new_human[new_human['full_seq'].isin(human_values)]\n",
    "print(\"len human data in test:\")\n",
    "print(len(test_human))"
   ]
  },
  {
   "cell_type": "code",
   "execution_count": 80,
   "id": "b88a4f6a-2273-4b57-8fd8-0921b06fac83",
   "metadata": {},
   "outputs": [],
   "source": [
    "new_gff = all_data[all_data['data']==\"MirMachine\"]\n",
    "new_mirgene = all_data[all_data['data']==\"MirGeneDB\"]\n",
    "new_human = all_data[all_data['data']==\"Human\"]\n",
    "\n",
    "new_gff = new_gff[~new_gff['full_seq'].isin(gff_values)]\n",
    "new_mirgene = new_mirgene[~new_mirgene['full_seq'].isin(mirgene_values)]\n",
    "new_human = new_human[~new_human['full_seq'].isin(human_values)]"
   ]
  },
  {
   "cell_type": "code",
   "execution_count": null,
   "id": "6d01861d-e1c7-489b-a4bc-e1849c2e5a6e",
   "metadata": {},
   "outputs": [],
   "source": [
    "new_gff.to_csv(\"gff_hairpin_data.csv\")\n",
    "new_mirgene.to_csv(\"mirgene_hairpin_data.csv\")\n",
    "new_human.to_csv(\"human_hairpin_data.csv\")"
   ]
  },
  {
   "cell_type": "code",
   "execution_count": null,
   "id": "0ebc831e-61d9-4c7d-94c0-1a6a845dea70",
   "metadata": {},
   "outputs": [],
   "source": [
    "test_human.to_csv(\"human_test_data.csv\")"
   ]
  }
 ],
 "metadata": {
  "kernelspec": {
   "display_name": "GPT_ron",
   "language": "python",
   "name": "gpt_ron"
  },
  "language_info": {
   "codemirror_mode": {
    "name": "ipython",
    "version": 3
   },
   "file_extension": ".py",
   "mimetype": "text/x-python",
   "name": "python",
   "nbconvert_exporter": "python",
   "pygments_lexer": "ipython3",
   "version": "3.10.13"
  }
 },
 "nbformat": 4,
 "nbformat_minor": 5
}
